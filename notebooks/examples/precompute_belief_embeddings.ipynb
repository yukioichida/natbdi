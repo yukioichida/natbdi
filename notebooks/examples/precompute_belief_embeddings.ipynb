{
 "cells": [
  {
   "cell_type": "code",
   "execution_count": 23,
   "metadata": {
    "collapsed": true,
    "ExecuteTime": {
     "start_time": "2023-11-20T10:50:40.558068Z",
     "end_time": "2023-11-20T10:50:41.307019Z"
    }
   },
   "source": [
    "import json\n",
    "import pandas as pd\n",
    "import torch\n",
    "from tqdm import tqdm\n",
    "\n",
    "from transformers import AutoModel, AutoTokenizer\n",
    "from transformers import default_data_collator\n",
    "from torch.utils.data import DataLoader\n",
    "\n",
    "from sources.scienceworld import parse_beliefs, parse_goal"
   ],
   "outputs": []
  },
  {
   "cell_type": "code",
   "execution_count": 2,
   "source": [
    "goldpath_file = \"../data/goldsequences-0-1-2-3-4-6-7-8-9-10-11-12-13-14-15-16-17-18-19-20-21-22-23-24-25-26-27-28-29.json\"\n",
    "#goldpath_file = \"../data/goldsequences-0.json\"\n",
    "\n",
    "with open(goldpath_file) as file:\n",
    "    data = json.load(file)\n",
    "\n",
    "data.keys()"
   ],
   "metadata": {
    "collapsed": false,
    "ExecuteTime": {
     "start_time": "2023-11-20T10:19:42.821553Z",
     "end_time": "2023-11-20T10:19:44.558211Z"
    }
   },
   "outputs": []
  },
  {
   "cell_type": "code",
   "execution_count": 14,
   "source": [
    "sentence_list = []\n",
    "\n",
    "all_tasks = list(data.keys())\n",
    "for task_id in tqdm(all_tasks):\n",
    "    for variation in range(0, len(data[task_id]['goldActionSequences'])):\n",
    "        trajectory = data[task_id]['goldActionSequences'][variation]\n",
    "        task = trajectory['taskDescription']\n",
    "\n",
    "        goal = parse_goal(task)\n",
    "        if goal not in sentence_list:\n",
    "            sentence_list.append(goal)\n",
    "        for step in trajectory['path']:\n",
    "            inventory = step['inventory']\n",
    "            observation = step['observation']\n",
    "            look = step['freelook']\n",
    "            if step['action'] == 'look around':  # avoid including the freelook\n",
    "                observation = \"\"\n",
    "            beliefs = parse_beliefs(observation=observation, look=look, inventory=inventory)\n",
    "            for b in beliefs:\n",
    "                if b not in sentence_list:\n",
    "                    sentence_list.append(b)\n",
    "\n",
    "print(\"ok\")\n",
    "len(sentence_list) # 57179"
   ],
   "metadata": {
    "collapsed": false,
    "ExecuteTime": {
     "start_time": "2023-11-20T10:37:47.956965Z",
     "end_time": "2023-11-20T10:42:45.817359Z"
    }
   },
   "outputs": []
  },
  {
   "cell_type": "code",
   "execution_count": 21,
   "source": [
    "df = pd.DataFrame(data=sentence_list, columns=['sentence'])\n",
    "df.to_csv(\"all_beliefs.csv\", index=False)"
   ],
   "metadata": {
    "collapsed": false,
    "ExecuteTime": {
     "start_time": "2023-11-20T10:49:06.275301Z",
     "end_time": "2023-11-20T10:49:06.434536Z"
    }
   },
   "outputs": []
  },
  {
   "cell_type": "code",
   "execution_count": 24,
   "source": [
    "#df = pd.read_csv(\"all_beliefs.csv\")\n",
    "tokenizer = AutoTokenizer.from_pretrained(\"princeton-nlp/sup-simcse-bert-base-uncased\")\n",
    "model = AutoModel.from_pretrained(\"princeton-nlp/sup-simcse-bert-base-uncased\")\n",
    "model = model.to('cuda')\n"
   ],
   "metadata": {
    "collapsed": false,
    "ExecuteTime": {
     "start_time": "2023-11-20T10:50:44.184393Z",
     "end_time": "2023-11-20T10:50:47.822179Z"
    }
   },
   "outputs": []
  },
  {
   "cell_type": "code",
   "execution_count": 61,
   "source": [
    "tokenized_sentence = tokenizer(sentence_list, padding=\"max_length\", max_length=256, truncation=True, return_tensors=\"pt\")\n",
    "        #break"
   ],
   "metadata": {
    "collapsed": false,
    "ExecuteTime": {
     "start_time": "2023-11-20T11:04:40.666563Z",
     "end_time": "2023-11-20T11:04:45.931574Z"
    }
   },
   "outputs": []
  },
  {
   "cell_type": "code",
   "execution_count": 72,
   "source": [
    "import torch\n",
    "\n",
    "class CustomDataset(torch.utils.data.Dataset):\n",
    "    def __init__(self, sentences):\n",
    "        self.sentences = sentences\n",
    "\n",
    "    def __getitem__(self, idx):\n",
    "        item = {key: val[idx] for key, val in self.sentences.items()}\n",
    "        return item\n",
    "\n",
    "    def __len__(self):\n",
    "        num_sentences, _ = self.sentences['input_ids'].size()\n",
    "        return num_sentences\n",
    "\n",
    "train_dataset = CustomDataset(tokenized_sentence)\n",
    "len(train_dataset)"
   ],
   "metadata": {
    "collapsed": false,
    "ExecuteTime": {
     "start_time": "2023-11-20T11:07:51.625226Z",
     "end_time": "2023-11-20T11:07:51.670492Z"
    }
   },
   "outputs": []
  },
  {
   "cell_type": "code",
   "execution_count": 79,
   "source": [
    "dataloader = DataLoader(train_dataset, batch_size=256)\n",
    "all_embeddings = []\n",
    "model.eval()\n",
    "with torch.no_grad():\n",
    "    for batch in tqdm(dataloader):\n",
    "        x = {k:b.to(\"cuda\") for k,b in batch.items()}\n",
    "        embeddings = model(**x)\n",
    "        all_embeddings.append(embeddings.pooler_output)\n",
    "        #break\n",
    "sentences_embeddings = torch.concat(all_embeddings)"
   ],
   "metadata": {
    "collapsed": false,
    "ExecuteTime": {
     "start_time": "2023-11-20T11:18:21.381319Z",
     "end_time": "2023-11-20T11:26:31.592488Z"
    }
   },
   "outputs": []
  },
  {
   "cell_type": "code",
   "execution_count": 84,
   "source": [],
   "metadata": {
    "collapsed": false,
    "ExecuteTime": {
     "start_time": "2023-11-20T17:04:27.836402Z",
     "end_time": "2023-11-20T17:04:27.848463Z"
    }
   },
   "outputs": []
  },
  {
   "cell_type": "code",
   "execution_count": 85,
   "source": [
    "torch.save(sentences_embeddings, \"all_beliefs_embeddings.pt\")"
   ],
   "metadata": {
    "collapsed": false,
    "ExecuteTime": {
     "start_time": "2023-11-20T17:04:29.249218Z",
     "end_time": "2023-11-20T17:04:31.810000Z"
    }
   },
   "outputs": []
  },
  {
   "cell_type": "code",
   "execution_count": null,
   "source": [],
   "metadata": {
    "collapsed": false
   },
   "outputs": []
  }
 ],
 "metadata": {
  "kernelspec": {
   "display_name": "Python 3",
   "language": "python",
   "name": "python3"
  },
  "language_info": {
   "codemirror_mode": {
    "name": "ipython",
    "version": 2
   },
   "file_extension": ".py",
   "mimetype": "text/x-python",
   "name": "python",
   "nbconvert_exporter": "python",
   "pygments_lexer": "ipython2",
   "version": "2.7.6"
  }
 },
 "nbformat": 4,
 "nbformat_minor": 0
}
