{
 "cells": [
  {
   "cell_type": "code",
   "execution_count": 10,
   "metadata": {
    "collapsed": true,
    "ExecuteTime": {
     "start_time": "2023-08-31T17:17:58.472566Z",
     "end_time": "2023-08-31T17:17:58.495871Z"
    }
   },
   "outputs": [],
   "source": [
    "import re\n",
    "\n",
    "import matplotlib.pyplot as plt\n",
    "import networkx as nx\n",
    "from scienceworld import ScienceWorldEnv\n",
    "\n",
    "from sources.bdi_components.plans import write_plans_to_file"
   ]
  },
  {
   "cell_type": "markdown",
   "source": [
    "# Environment exploration\n",
    "- Since the agent can initiate in any location, in order to dynamically navigate through map, we create a bootstrap phase to agent explore the environment and understand the trajectory.\n",
    "    - The exploration phase builds a graph where nodes are locations and edges represent the path between locations\n",
    "    - After the exploration, we use a simple shortest path algorithm to dynamically *instantiate a new plan given a subgoal*\n"
   ],
   "metadata": {
    "collapsed": false
   }
  },
  {
   "cell_type": "code",
   "execution_count": 11,
   "outputs": [],
   "source": [
    "\"\"\"\n",
    "- varrer mapa para saber onde estão os objetos\n",
    "- desenvolver planos alto nivel que disparem ações como pick up thermometer, independente de onde o termometro está\n",
    "\n",
    "- exploration (bootstrap)\n",
    "    - varrer mapa entendendo localização\n",
    "    - varrer mapa entendendo localização dos objetos\n",
    "    - gerar planos automático baseado nessa exploração\n",
    "\"\"\"\n",
    "def parse(observation: str, inventory: str) -> list[str]:\n",
    "    x = re.search(r\"([\\S\\s]*?)(?:In it, you see:)([\\S\\s]*?)(?:You also see:)([\\S\\s]*)\", observation)\n",
    "    if x == None:\n",
    "        x = re.search(r\"([\\S\\s]*?)(?:Here you see:)([\\S\\s]*?)(?:You also see:)([\\S\\s]*)\", observation)\n",
    "    groups = x.groups()\n",
    "\n",
    "    location = groups[0]\n",
    "    objects = groups[1]\n",
    "    doors = groups[2]\n",
    "\n",
    "    loc_split = [location.strip()]\n",
    "    obs_split = [obs.strip() for obs in objects.split('\\n') if len(obs.strip()) > 0]\n",
    "    obs_split = [f\"You see {obs}\" for obs in obs_split]\n",
    "    doors_split = [door.strip() for door in doors.split('\\n') if len(door.strip()) > 0]\n",
    "    inventory_items = inventory.replace('\\n', ' ').replace('\\t', '')\n",
    "    return loc_split + obs_split + doors_split + [inventory_items]"
   ],
   "metadata": {
    "collapsed": false,
    "ExecuteTime": {
     "start_time": "2023-08-31T17:17:59.298112Z",
     "end_time": "2023-08-31T17:17:59.341137Z"
    }
   }
  },
  {
   "cell_type": "code",
   "execution_count": 12,
   "outputs": [],
   "source": [
    "def get_current_location(look):\n",
    "    beliefs = parse(look, \"\")\n",
    "    current_location = beliefs[0].replace(\"This room is called the \", \"\").replace(\".\", \"\") # TODO: formulate a smart approach to get the current location\n",
    "    if current_location == 'This outside location is called the outside':\n",
    "        current_location = 'outside'\n",
    "    return current_location\n",
    "\n",
    "def get_next_locations(look):\n",
    "    beliefs = parse(look, \"\")\n",
    "    doors = [d for d in beliefs if d.startswith(\"A door to the\")]\n",
    "    next_locations = [d.replace(\"A door to the \", \"\").replace(\" (that is closed)\", \"\").replace(\" (that is open)\", \"\") for d in doors]\n",
    "    return next_locations\n",
    "\n",
    "#beliefs = parse(info['look'], \"\")\n",
    "#current_location = beliefs[0].replace(\"This room is called the \", \"\").replace(\".\", \"\")\n",
    "#beliefs, current_location"
   ],
   "metadata": {
    "collapsed": false,
    "ExecuteTime": {
     "start_time": "2023-08-31T17:18:00.244698Z",
     "end_time": "2023-08-31T17:18:00.290142Z"
    }
   }
  },
  {
   "cell_type": "code",
   "execution_count": 13,
   "outputs": [
    {
     "name": "stdout",
     "output_type": "stream",
     "text": [
      "Step 0 - hallway -> ['art studio', 'bedroom', 'greenhouse', 'kitchen', 'living room', 'workshop'] - trajectory: [] - trajectory_idx: -1\n",
      "Visiting new location art studio - You move to the art studio.\n",
      "Step 1 - art studio -> [] - trajectory: ['hallway'] - trajectory_idx: -1\n",
      "Go back from art studio to hallway\n",
      "Step 2 - hallway -> ['bedroom', 'greenhouse', 'kitchen', 'living room', 'workshop'] - trajectory: ['hallway'] - trajectory_idx: -2\n",
      "Visiting new location bedroom - You move to the bedroom.\n",
      "Step 3 - bedroom -> [] - trajectory: ['hallway'] - trajectory_idx: -1\n",
      "Go back from bedroom to hallway\n",
      "Step 4 - hallway -> ['greenhouse', 'kitchen', 'living room', 'workshop'] - trajectory: ['hallway'] - trajectory_idx: -2\n",
      "Visiting new location greenhouse - You move to the greenhouse.\n",
      "Step 5 - greenhouse -> ['outside'] - trajectory: ['hallway'] - trajectory_idx: -1\n",
      "Visiting new location outside - You move to the outside.\n",
      "Step 6 - outside -> ['foundry', 'kitchen'] - trajectory: ['hallway', 'greenhouse'] - trajectory_idx: -1\n",
      "Visiting new location foundry - You move to the foundry.\n",
      "Step 7 - foundry -> [] - trajectory: ['hallway', 'greenhouse', 'outside'] - trajectory_idx: -1\n",
      "Go back from foundry to outside\n",
      "Step 8 - outside -> ['kitchen'] - trajectory: ['hallway', 'greenhouse', 'outside'] - trajectory_idx: -2\n",
      "Visiting new location kitchen - You move to the kitchen.\n",
      "Step 9 - kitchen -> ['bathroom'] - trajectory: ['hallway', 'greenhouse', 'outside'] - trajectory_idx: -1\n",
      "Visiting new location bathroom - You move to the bathroom.\n"
     ]
    }
   ],
   "source": [
    "env = ScienceWorldEnv(\"\", \"\", envStepLimit=100)\n",
    "randVariationIdx = 0\n",
    "task_name = env.getTaskNames()[0]\n",
    "env.load(task_nam'e, randVariationIdx)\n",
    "env.reset()\n",
    "# Run one episode until we reach a stopping condition (including exceeding the maximum steps)\n",
    "action_str = \"look around\"  # First action\n",
    "observation, reward, isCompleted, info = env.step(action_str)\n",
    "\n",
    "graph = nx.Graph()\n",
    "trajectory_idx = 1 # pointer locating the current node in the trajectory, to control the backward walking\n",
    "trajectory = [] # breadcumb array\n",
    "visited_nodes = []\n",
    "last_loc = None\n",
    "\n",
    "for step in range(10):\n",
    "    current_location = get_current_location(info['look'])\n",
    "\n",
    "    if current_location not in visited_nodes: # mark node as visited\n",
    "        visited_nodes.append(current_location)\n",
    "\n",
    "    available_locations = get_next_locations(info['look'])\n",
    "    for location in available_locations:\n",
    "        if (current_location, location) not in graph.edges:\n",
    "            graph.add_edge(current_location, location)\n",
    "    next_locations = [loc for loc in available_locations if loc not in visited_nodes]\n",
    "    print(f\"Step {step} - {current_location} -> {next_locations} - trajectory: {trajectory} - trajectory_idx: -{trajectory_idx}\")\n",
    "\n",
    "    if len(next_locations) == 0:\n",
    "        # there is no new place to enter, go back to the last location and explore\n",
    "        if trajectory_idx > len(trajectory): # if the backward step already reach the first trajectory node, then break\n",
    "            break\n",
    "        last_loc = trajectory[-trajectory_idx]\n",
    "        trajectory_idx = trajectory_idx + 1\n",
    "        print(f\"Go back from {current_location} to {last_loc}\")\n",
    "        observation, reward, isCompleted, info = env.step(f\"open door to {last_loc}\")\n",
    "        observation, reward, isCompleted, info = env.step(f\"go to {last_loc}\")\n",
    "    else:\n",
    "        if last_loc != current_location:\n",
    "            trajectory.append(current_location)\n",
    "        trajectory_idx = 1 # new node in the trajectory\n",
    "        last_loc = current_location\n",
    "        next_loc = next_locations[0]\n",
    "\n",
    "        _ = env.step(f\"open door to {next_loc}\")\n",
    "        observation, reward, isCompleted, info = env.step(f\"go to {next_loc}\")\n",
    "\n",
    "        print(f\"Visiting new location {next_loc} - {observation}\")\n",
    "        #TODO: trajectory array has duplicated elements (hallway)"
   ],
   "metadata": {
    "collapsed": false,
    "ExecuteTime": {
     "start_time": "2023-08-31T17:18:01.138730Z",
     "end_time": "2023-08-31T17:18:03.651355Z"
    }
   }
  },
  {
   "cell_type": "code",
   "execution_count": 14,
   "outputs": [
    {
     "data": {
      "text/plain": "<Figure size 640x480 with 1 Axes>",
      "image/png": "[encoded data removed]"
     },
     "metadata": {},
     "output_type": "display_data"
    }
   ],
   "source": [
    "nx.draw_networkx(graph)\n",
    "\n",
    "# Set margins for the axes so that nodes aren't clipped\n",
    "ax = plt.gca()\n",
    "ax.margins(.20)\n",
    "plt.axis(\"off\")\n",
    "plt.show()"
   ],
   "metadata": {
    "collapsed": false,
    "ExecuteTime": {
     "start_time": "2023-08-31T17:18:08.226520Z",
     "end_time": "2023-08-31T17:18:08.368372Z"
    }
   }
  },
  {
   "cell_type": "code",
   "execution_count": 15,
   "outputs": [
    {
     "name": "stdout",
     "output_type": "stream",
     "text": [
      "Goal addition: move to kitchen\n",
      "Path from foundry to kitchen -> ['foundry', 'outside', 'kitchen']\n",
      "Plan: if you need to move to kitchen considering you are in foundry then: go to foundry,go to outside,go to kitchen\n"
     ]
    }
   ],
   "source": [
    "current = \"foundry\"\n",
    "target = \"kitchen\"\n",
    "path = nx.shortest_path(graph, source=current, target=target)\n",
    "\n",
    "# move action can be considered as a custom action, similar to agent speak\n",
    "print(f\"Goal addition: move to {target}\")\n",
    "print(f\"Path from {current} to {target} -> {path}\")\n",
    "new_plan = f\"if you need to move to {target} considering you are in {current} then: {','.join([f'go to {loc}' for loc in path])}\"\n",
    "print(f\"Plan: {new_plan}\")"
   ],
   "metadata": {
    "collapsed": false,
    "ExecuteTime": {
     "start_time": "2023-08-31T17:18:16.000775Z",
     "end_time": "2023-08-31T17:18:16.045771Z"
    }
   }
  },
  {
   "cell_type": "code",
   "execution_count": 16,
   "outputs": [],
   "source": [
    "all_plans = []\n",
    "\n",
    "def generate_nl_plan(source, target):\n",
    "    plan_header = f\"IF your goal is to move to {target} CONSIDERING you are in {source} THEN \"\n",
    "    path = nx.shortest_path(graph, source=source, target=target)[1:] # removing the current location\n",
    "    actions = [f\"open door to {loc},go to {loc}\" for loc in path]\n",
    "    if len(graph[source]) == 1:\n",
    "        actions = ['open door', f'go to {path[0]}'] + [f\"open door to {loc},go to {loc}\" for loc in path[1:]]\n",
    "    actions = list(map(lambda x: x.replace(\"open door to art studio\", \"open art studio door\"), actions))\n",
    "    plan_body = ','.join(actions)\n",
    "\n",
    "\n",
    "\n",
    "    return plan_header + plan_body\n",
    "\n",
    "for node_a in graph.nodes:\n",
    "    for node_b in graph.nodes:\n",
    "        if node_a != node_b:\n",
    "            plan = generate_nl_plan(node_a, node_b)\n",
    "            all_plans.append(plan)\n",
    "\n"
   ],
   "metadata": {
    "collapsed": false,
    "ExecuteTime": {
     "start_time": "2023-08-31T17:18:27.436634Z",
     "end_time": "2023-08-31T17:18:27.485815Z"
    }
   }
  },
  {
   "cell_type": "code",
   "execution_count": 17,
   "outputs": [],
   "source": [
    "write_plans_to_file(all_plans, \"plans_navigation.txt\")"
   ],
   "metadata": {
    "collapsed": false,
    "ExecuteTime": {
     "start_time": "2023-08-31T17:18:27.566681Z",
     "end_time": "2023-08-31T17:18:27.573681Z"
    }
   }
  },
  {
   "cell_type": "code",
   "execution_count": null,
   "outputs": [],
   "source": [],
   "metadata": {
    "collapsed": false,
    "ExecuteTime": {
     "start_time": "2023-08-23T19:49:09.348027Z",
     "end_time": "2023-08-23T19:49:09.348027Z"
    }
   }
  },
  {
   "cell_type": "code",
   "execution_count": null,
   "outputs": [],
   "source": [],
   "metadata": {
    "collapsed": false,
    "ExecuteTime": {
     "start_time": "2023-08-23T19:49:09.351230Z",
     "end_time": "2023-08-23T19:49:09.351230Z"
    }
   }
  }
 ],
 "metadata": {
  "kernelspec": {
   "display_name": "Python 3",
   "language": "python",
   "name": "python3"
  },
  "language_info": {
   "codemirror_mode": {
    "name": "ipython",
    "version": 2
   },
   "file_extension": ".py",
   "mimetype": "text/x-python",
   "name": "python",
   "nbconvert_exporter": "python",
   "pygments_lexer": "ipython2",
   "version": "2.7.6"
  }
 },
 "nbformat": 4,
 "nbformat_minor": 0
}
