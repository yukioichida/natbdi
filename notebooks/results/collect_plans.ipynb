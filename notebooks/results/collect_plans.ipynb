{
 "cells": [
  {
   "cell_type": "code",
   "execution_count": 1,
   "metadata": {
    "collapsed": true,
    "ExecuteTime": {
     "start_time": "2023-09-08T10:30:04.048497Z",
     "end_time": "2023-09-08T10:30:07.056801Z"
    }
   },
   "outputs": [],
   "source": [
    "import json\n",
    "from collections import namedtuple\n",
    "import re\n",
    "\n",
    "import pandas as pd\n",
    "\n",
    "Plan = namedtuple(\"Plan\", \"context actions\")\n",
    "\n",
    "goldpath_file = \"../data/goldsequences-0-1-2-3-4-6-7-8-9-10-11-12-13-14-15-16-17-18-19-20-21-22-23-24-25-26-27-28-29.json\"\n",
    "#goldpath_file = \"../data/goldsequences-0.json\"\n",
    "\n",
    "with open(goldpath_file) as file:\n",
    "    data = json.load(file)\n"
   ]
  },
  {
   "cell_type": "markdown",
   "source": [
    "open/close OBJ - open/close a container\n",
    "de/activate OBJ - activate/deactivate a device\n",
    "connect OBJ to OBJ - connect electrical components\n",
    "disconnect OBJ - disconnect electrical components\n",
    "use OBJ [on OBJ] - use a device/item\n",
    "look around describe - the current room\n",
    "look at OBJ - describe an object in detail\n",
    "look in OBJ - describe a container’s contents\n",
    "read OBJ - read a note or book\n",
    "move OBJ to OBJ - move an object to a container\n",
    "pick up OBJ - move an object to the inventory\n",
    "put down OBJ - drop an inventory item\n",
    "pour OBJ into OBJ - pour a liquid into a container\n",
    "dunk OBJ into OBJ - dunk a container into a liquid\n",
    "mix OBJ - chemically mix a container\n",
    "go to LOC - move to a new location\n",
    "eat OBJ - eat a food\n",
    "flush OBJ - flush a toilet\n",
    "focus on OBJ - signal intent on a task object"
   ],
   "metadata": {
    "collapsed": false
   }
  },
  {
   "cell_type": "code",
   "execution_count": 2,
   "outputs": [
    {
     "name": "stdout",
     "output_type": "stream",
     "text": [
      "ok\n"
     ]
    }
   ],
   "source": [
    "all_plans = {}\n",
    "variation_list = []\n",
    "task_id_list = []\n",
    "for task_id in list(data.keys()):\n",
    "    for variation in range(0, len(data[task_id]['goldActionSequences'])):\n",
    "        variation_list.append(variation)\n",
    "        trajectory = data[task_id]['goldActionSequences'][variation]\n",
    "        task = trajectory['taskDescription']\n",
    "        goal = task.split('.')[0]\n",
    "        if goal not in all_plans:\n",
    "            all_plans[goal] = []\n",
    "            task_id_list.append(data[task_id]['taskName'])\n",
    "\n",
    "        plan = []\n",
    "        for step in trajectory['path']:\n",
    "            action = step['action']\n",
    "            if action != 'look around':\n",
    "                plan.append(action)\n",
    "            if step['isCompleted'] == 'true':\n",
    "                break\n",
    "\n",
    "        all_plans[goal].append({'plan': plan, 'variation': variation})\n",
    "\n",
    "print(\"ok\")\n"
   ],
   "metadata": {
    "collapsed": false,
    "ExecuteTime": {
     "start_time": "2023-09-08T10:30:07.090884Z",
     "end_time": "2023-09-08T10:30:07.170464Z"
    }
   }
  },
  {
   "cell_type": "code",
   "execution_count": 3,
   "outputs": [
    {
     "data": {
      "text/plain": "'task-9-mendellian-genetics-(unknown-plant)'"
     },
     "execution_count": 3,
     "metadata": {},
     "output_type": "execute_result"
    }
   ],
   "source": [
    "data[task_id]['taskName']"
   ],
   "metadata": {
    "collapsed": false,
    "ExecuteTime": {
     "start_time": "2023-09-08T10:30:07.170464Z",
     "end_time": "2023-09-08T10:30:07.174491Z"
    }
   }
  },
  {
   "cell_type": "code",
   "execution_count": 4,
   "outputs": [],
   "source": [
    "#landmark: actions that are performed in every variation\n",
    "def common_member(a, b):\n",
    "    a_set = set(a)\n",
    "    b_set = set(b)\n",
    "\n",
    "    # check length\n",
    "    if len(a_set.intersection(b_set)) > 0:\n",
    "        return(a_set.intersection(b_set))\n",
    "    else:\n",
    "        return(\"no common elements\")\n",
    "\n",
    "common_plans = {}\n",
    "for goal in all_plans.keys():\n",
    "    plans = all_plans[goal]\n",
    "    common_actions = []\n",
    "\n",
    "    plan_a = plans[0]['plan']\n",
    "\n",
    "    for plan in plans[1:]:\n",
    "        plan = plan['plan']\n",
    "        common_actions = common_member(plan_a, plan)\n",
    "        plan_a = common_actions\n",
    "\n",
    "    common_plans[goal] = common_actions\n"
   ],
   "metadata": {
    "collapsed": false,
    "ExecuteTime": {
     "start_time": "2023-09-08T10:30:07.192984Z",
     "end_time": "2023-09-08T10:30:07.247776Z"
    }
   }
  },
  {
   "cell_type": "code",
   "execution_count": 5,
   "outputs": [],
   "source": [
    "rows = []\n",
    "\n",
    "plan_id = 0\n",
    "for i, ((goal, plans), task_id) in enumerate(zip(all_plans.items(), task_id_list)):\n",
    "    landmarks = common_plans[goal]\n",
    "    for plan in plans:\n",
    "        variation = plan['variation']\n",
    "        for k, action in enumerate(plan['plan']):\n",
    "            flag = True if action in landmarks else False\n",
    "            rows.append({\n",
    "                'action': action,\n",
    "                'landmark': flag,\n",
    "                'variation': variation,\n",
    "                'order': k,\n",
    "                'goal': goal,\n",
    "                'task_id': task_id\n",
    "            })\n",
    "        plan_id += 1\n",
    "\n",
    "df = pd.DataFrame(rows).sort_values(['task_id','variation', 'order'])"
   ],
   "metadata": {
    "collapsed": false,
    "ExecuteTime": {
     "start_time": "2023-09-08T10:30:07.264454Z",
     "end_time": "2023-09-08T10:30:07.836068Z"
    }
   }
  },
  {
   "cell_type": "code",
   "execution_count": 6,
   "outputs": [],
   "source": [
    "import os\n",
    "\n",
    "for i, ((goal, plans), task_id) in enumerate(zip(all_plans.items(), task_id_list)):\n",
    "\n",
    "    filename = goal.replace(\" \", \"_\")\n",
    "    #filepath = f\"plans_csv/{task_id}/{filename.lower()}\"\n",
    "    filepath = f\"../data/plans_csv/{task_id}/{filename.lower()}\"\n",
    "    if not os.path.exists(filepath):\n",
    "        os.makedirs(filepath)\n",
    "\n",
    "    plans_df = df[df['goal'] == goal].sort_values(['variation', 'order'])\n",
    "    #plans_df.to_csv(f\"{filepath}/{filename}.csv\", index=False)\n",
    "    for variation in plans_df['variation'].unique():\n",
    "        plans_df[plans_df['variation'] == variation].to_csv(f\"{filepath}/{variation}.csv\", index=False)"
   ],
   "metadata": {
    "collapsed": false,
    "ExecuteTime": {
     "start_time": "2023-09-08T10:30:07.854541Z",
     "end_time": "2023-09-08T10:30:26.138443Z"
    }
   }
  },
  {
   "cell_type": "code",
   "execution_count": 7,
   "outputs": [
    {
     "data": {
      "text/plain": "                                              task_id       order\n25    task-8-inclined-plane-friction-(named-surfaces)  153.437590\n26  task-8-inclined-plane-friction-(unnamed-surfaces)  131.697531\n28         task-9-mendellian-genetics-(unknown-plant)  119.754167\n27           task-9-mendellian-genetics-(known-plant)  119.355556\n24              task-8-inclined-plane-determine-angle   97.369048\n14                                  task-4-grow-fruit   66.476190\n0                                         task-1-boil   64.571429\n2                                       task-1-freeze   56.607143\n3                                         task-1-melt   46.357143\n1                task-1-change-the-state-of-matter-of   42.857143\n4     task-10-measure-melting-point-(known-substance)   33.055366\n15                                  task-4-grow-plant   30.396825\n22                      task-7-identify-life-stages-1   30.285714\n8                           task-2a-test-conductivity   27.784444\n16                               task-5-chemistry-mix   23.656250\n9     task-2a-test-conductivity-of-unknown-substances   21.483333\n18        task-5-chemistry-mix-paint-(tertiary-color)   20.444444\n7   task-2-power-component-(renewable-vs-nonrenewa...   16.900000\n5                             task-10-use-thermometer   15.736741\n17       task-5-chemistry-mix-paint-(secondary-color)   13.277778\n11                           task-3-find-living-thing   11.686667\n10                                 task-3-find-animal   11.686667\n13                                  task-3-find-plant   10.713333\n6                              task-2-power-component    9.200000\n23                      task-7-identify-life-stages-2    8.900000\n12                       task-3-find-non-living-thing    6.026667\n20  task-6-lifespan-(longest-lived-then-shortest-l...    5.872000\n21                   task-6-lifespan-(shortest-lived)    4.872000\n19                    task-6-lifespan-(longest-lived)    4.872000",
      "text/html": "<div>\n<style scoped>\n    .dataframe tbody tr th:only-of-type {\n        vertical-align: middle;\n    }\n\n    .dataframe tbody tr th {\n        vertical-align: top;\n    }\n\n    .dataframe thead th {\n        text-align: right;\n    }\n</style>\n<table border=\"1\" class=\"dataframe\">\n  <thead>\n    <tr style=\"text-align: right;\">\n      <th></th>\n      <th>task_id</th>\n      <th>order</th>\n    </tr>\n  </thead>\n  <tbody>\n    <tr>\n      <th>25</th>\n      <td>task-8-inclined-plane-friction-(named-surfaces)</td>\n      <td>153.437590</td>\n    </tr>\n    <tr>\n      <th>26</th>\n      <td>task-8-inclined-plane-friction-(unnamed-surfaces)</td>\n      <td>131.697531</td>\n    </tr>\n    <tr>\n      <th>28</th>\n      <td>task-9-mendellian-genetics-(unknown-plant)</td>\n      <td>119.754167</td>\n    </tr>\n    <tr>\n      <th>27</th>\n      <td>task-9-mendellian-genetics-(known-plant)</td>\n      <td>119.355556</td>\n    </tr>\n    <tr>\n      <th>24</th>\n      <td>task-8-inclined-plane-determine-angle</td>\n      <td>97.369048</td>\n    </tr>\n    <tr>\n      <th>14</th>\n      <td>task-4-grow-fruit</td>\n      <td>66.476190</td>\n    </tr>\n    <tr>\n      <th>0</th>\n      <td>task-1-boil</td>\n      <td>64.571429</td>\n    </tr>\n    <tr>\n      <th>2</th>\n      <td>task-1-freeze</td>\n      <td>56.607143</td>\n    </tr>\n    <tr>\n      <th>3</th>\n      <td>task-1-melt</td>\n      <td>46.357143</td>\n    </tr>\n    <tr>\n      <th>1</th>\n      <td>task-1-change-the-state-of-matter-of</td>\n      <td>42.857143</td>\n    </tr>\n    <tr>\n      <th>4</th>\n      <td>task-10-measure-melting-point-(known-substance)</td>\n      <td>33.055366</td>\n    </tr>\n    <tr>\n      <th>15</th>\n      <td>task-4-grow-plant</td>\n      <td>30.396825</td>\n    </tr>\n    <tr>\n      <th>22</th>\n      <td>task-7-identify-life-stages-1</td>\n      <td>30.285714</td>\n    </tr>\n    <tr>\n      <th>8</th>\n      <td>task-2a-test-conductivity</td>\n      <td>27.784444</td>\n    </tr>\n    <tr>\n      <th>16</th>\n      <td>task-5-chemistry-mix</td>\n      <td>23.656250</td>\n    </tr>\n    <tr>\n      <th>9</th>\n      <td>task-2a-test-conductivity-of-unknown-substances</td>\n      <td>21.483333</td>\n    </tr>\n    <tr>\n      <th>18</th>\n      <td>task-5-chemistry-mix-paint-(tertiary-color)</td>\n      <td>20.444444</td>\n    </tr>\n    <tr>\n      <th>7</th>\n      <td>task-2-power-component-(renewable-vs-nonrenewa...</td>\n      <td>16.900000</td>\n    </tr>\n    <tr>\n      <th>5</th>\n      <td>task-10-use-thermometer</td>\n      <td>15.736741</td>\n    </tr>\n    <tr>\n      <th>17</th>\n      <td>task-5-chemistry-mix-paint-(secondary-color)</td>\n      <td>13.277778</td>\n    </tr>\n    <tr>\n      <th>11</th>\n      <td>task-3-find-living-thing</td>\n      <td>11.686667</td>\n    </tr>\n    <tr>\n      <th>10</th>\n      <td>task-3-find-animal</td>\n      <td>11.686667</td>\n    </tr>\n    <tr>\n      <th>13</th>\n      <td>task-3-find-plant</td>\n      <td>10.713333</td>\n    </tr>\n    <tr>\n      <th>6</th>\n      <td>task-2-power-component</td>\n      <td>9.200000</td>\n    </tr>\n    <tr>\n      <th>23</th>\n      <td>task-7-identify-life-stages-2</td>\n      <td>8.900000</td>\n    </tr>\n    <tr>\n      <th>12</th>\n      <td>task-3-find-non-living-thing</td>\n      <td>6.026667</td>\n    </tr>\n    <tr>\n      <th>20</th>\n      <td>task-6-lifespan-(longest-lived-then-shortest-l...</td>\n      <td>5.872000</td>\n    </tr>\n    <tr>\n      <th>21</th>\n      <td>task-6-lifespan-(shortest-lived)</td>\n      <td>4.872000</td>\n    </tr>\n    <tr>\n      <th>19</th>\n      <td>task-6-lifespan-(longest-lived)</td>\n      <td>4.872000</td>\n    </tr>\n  </tbody>\n</table>\n</div>"
     },
     "execution_count": 7,
     "metadata": {},
     "output_type": "execute_result"
    }
   ],
   "source": [
    "count_steps_df = df.groupby([\"task_id\", \"goal\", \"variation\"])['order'].count().reset_index()\n",
    "count_steps_df = count_steps_df.groupby([\"task_id\", \"goal\"])['order'].mean().reset_index()\n",
    "count_steps_df = count_steps_df.groupby([\"task_id\"])['order'].mean().reset_index()\n",
    "count_steps_df.sort_values(\"order\", ascending=False)"
   ],
   "metadata": {
    "collapsed": false,
    "ExecuteTime": {
     "start_time": "2023-09-08T10:30:26.148510Z",
     "end_time": "2023-09-08T10:30:26.224492Z"
    }
   }
  },
  {
   "cell_type": "code",
   "execution_count": null,
   "outputs": [],
   "source": [
    "\"\"\"\n",
    "! if your task is to boil an water AND you are not in the kitchen\n",
    "    then\n",
    "! go to the kitchen (you should see a door to the kitchen)\n",
    "    + open door to the kitchen\n",
    "    + go to the kitchen\n",
    "! pick up metal pot (you should are in the kitchen)\n",
    "    + open cupboard\n",
    "    + pick up metal pot\n",
    "+ pick up thermometer\n",
    "! fill metal pot with water (must have metal pot in your inventory and you should see a sink)\n",
    "    + pour metal pot into sink\n",
    "    + move metal pot to sink\n",
    "    + activate sink\n",
    "    + deactivate sink\n",
    "    + pick up metal pot\n",
    "! boil water (You should have metal pot in your inventory with water and a thermometer, and you should see a stove)\n",
    "    + deactivate stove\n",
    "    + move metal pot to stove\n",
    "    + activate stove\n",
    "    + examine substance in metal pot\n",
    "    + use thermometer in inventory on substance in metal pot\n",
    "    + examine substance in metal pot\n",
    "    + use thermometer in inventory on substance in metal pot\n",
    "    + examine substance in metal pot\n",
    "    + use thermometer in inventory on substance in metal pot\n",
    "    + examine substance in metal pot\n",
    "    + use thermometer in inventory on substance in metal pot\n",
    "    + examine substance in metal pot\n",
    "    + use thermometer in inventory on substance in metal pot\n",
    "\"\"\""
   ],
   "metadata": {
    "collapsed": false
   }
  }
 ],
 "metadata": {
  "kernelspec": {
   "display_name": "Python 3",
   "language": "python",
   "name": "python3"
  },
  "language_info": {
   "codemirror_mode": {
    "name": "ipython",
    "version": 2
   },
   "file_extension": ".py",
   "mimetype": "text/x-python",
   "name": "python",
   "nbconvert_exporter": "python",
   "pygments_lexer": "ipython2",
   "version": "2.7.6"
  }
 },
 "nbformat": 4,
 "nbformat_minor": 0
}
