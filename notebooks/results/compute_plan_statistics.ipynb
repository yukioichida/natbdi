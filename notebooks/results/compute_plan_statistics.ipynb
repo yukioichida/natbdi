{
 "cells": [
  {
   "cell_type": "code",
   "execution_count": 13,
   "metadata": {
    "collapsed": true,
    "ExecuteTime": {
     "start_time": "2023-09-30T16:50:31.047497Z",
     "end_time": "2023-09-30T16:50:31.099979Z"
    }
   },
   "source": [
    "import pandas as pd\n",
    "from sources.bdi_components.plans import PlanLibrary\n",
    "\n",
    "def load_plan_library(plan_file: str):\n",
    "    pl = PlanLibrary()\n",
    "    pl.load_plans_from_file(plan_file)\n",
    "    pl.load_plans_from_file(\"../plans/plans_nl/plan_common.plan\")\n",
    "    pl.load_plans_from_file(\"plans_navigation.txt\")\n",
    "    return pl\n",
    "\n",
    "def get_plan_files(task: str) -> pd.DataFrame:\n",
    "    plan_files = [{\"plan_file\": f\"../plans/plans_nl/plan_{task}_100.plan\", \"pct_plans\": 100},\n",
    "                  {\"plan_file\": f\"../plans/plans_nl/plan_{task}_75.plan\", \"pct_plans\": 75},\n",
    "                  {\"plan_file\": f\"../plans/plans_nl/plan_{task}_50.plan\", \"pct_plans\": 50},\n",
    "                  {\"plan_file\": f\"../plans/plans_nl/plan_{task}_25.plan\", \"pct_plans\": 25},\n",
    "                  {\"plan_file\": f\"../plans/plans_nl/plan_{task}_0.plan\", \"pct_plans\": 0}]\n",
    "    return pd.DataFrame(plan_files).sort_values(\"pct_plans\")\n",
    "\n",
    "tasks = ['melt', 'find-non-living-thing']"
   ],
   "outputs": []
  },
  {
   "cell_type": "code",
   "execution_count": 14,
   "source": [
    "#180 common plans\n",
    "values = []\n",
    "for task in tasks:\n",
    "    plan_file_df = get_plan_files(task)\n",
    "    for i, row in plan_file_df.iterrows():\n",
    "        pl = load_plan_library(row['plan_file'])\n",
    "        values.append({\n",
    "            'plans_pct': row['pct_plans'],\n",
    "            'task': task,\n",
    "            'num_plans': pl.get_plan_library_length(),\n",
    "            'num_common_plans': 180,\n",
    "            'num_specific_plans': pl.get_plan_library_length() - 180\n",
    "        })\n",
    "\n",
    "result_df = pd.DataFrame(values)\n",
    "result_df"
   ],
   "metadata": {
    "collapsed": false,
    "ExecuteTime": {
     "start_time": "2023-09-30T16:50:31.303326Z",
     "end_time": "2023-09-30T16:50:31.361941Z"
    }
   },
   "outputs": []
  },
  {
   "cell_type": "code",
   "execution_count": 15,
   "source": [
    "result_df.to_csv(\"plan_statistics.csv\", index=False)"
   ],
   "metadata": {
    "collapsed": false,
    "ExecuteTime": {
     "start_time": "2023-09-30T16:50:57.690315Z",
     "end_time": "2023-09-30T16:50:57.696603Z"
    }
   },
   "outputs": []
  },
  {
   "cell_type": "code",
   "execution_count": null,
   "source": [],
   "metadata": {
    "collapsed": false
   },
   "outputs": []
  }
 ],
 "metadata": {
  "kernelspec": {
   "display_name": "Python 3",
   "language": "python",
   "name": "python3"
  },
  "language_info": {
   "codemirror_mode": {
    "name": "ipython",
    "version": 2
   },
   "file_extension": ".py",
   "mimetype": "text/x-python",
   "name": "python",
   "nbconvert_exporter": "python",
   "pygments_lexer": "ipython2",
   "version": "2.7.6"
  }
 },
 "nbformat": 4,
 "nbformat_minor": 0
}
