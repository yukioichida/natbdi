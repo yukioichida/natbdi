{
 "cells": [
  {
   "metadata": {
    "ExecuteTime": {
     "end_time": "2024-08-12T10:12:58.443148Z",
     "start_time": "2024-08-12T10:12:56.423063Z"
    }
   },
   "cell_type": "code",
   "source": [
    "import json\n",
    "\n",
    "from sources.scienceworld import parse_beliefs, parse_goal\n",
    "\n",
    "from sources.cl_nli.model import SimCSE\n",
    "from transformers import AutoTokenizer\n",
    "\n"
   ],
   "id": "f7654e6db60d5017",
   "outputs": [],
   "execution_count": 1
  },
  {
   "cell_type": "code",
   "id": "initial_id",
   "metadata": {
    "collapsed": true,
    "ExecuteTime": {
     "end_time": "2024-08-12T10:12:58.450078Z",
     "start_time": "2024-08-12T10:12:58.444628Z"
    }
   },
   "source": [
    "\n",
    "\n",
    "goldpath_file = \"/opt/data/scienceworld-goldpaths/goldsequences-0.json\"\n",
    "\n",
    "with open(goldpath_file) as f:\n",
    "    json_data = json.load(f)\n",
    "\n",
    "json_data = json_data['0']\n",
    "\n",
    "json_data.keys()"
   ],
   "outputs": [
    {
     "data": {
      "text/plain": [
       "dict_keys(['taskIdx', 'taskName', 'goldActionSequences'])"
      ]
     },
     "execution_count": 2,
     "metadata": {},
     "output_type": "execute_result"
    }
   ],
   "execution_count": 2
  },
  {
   "metadata": {
    "ExecuteTime": {
     "end_time": "2024-08-12T10:12:58.490496Z",
     "start_time": "2024-08-12T10:12:58.451281Z"
    }
   },
   "cell_type": "code",
   "source": [
    "trajectories = json_data['goldActionSequences'][0]['path']\n",
    "goal = json_data['goldActionSequences'][0]['taskDescription']\n",
    "\n",
    "all_lens = []\n",
    "\n",
    "last_reward = 0\n",
    "for i, trajectory in enumerate(trajectories):\n",
    "    observation = trajectory['observation']\n",
    "    look_around = trajectory['freelook']\n",
    "    inventory = trajectory['inventory']\n",
    "    \n",
    "    belief_base = parse_beliefs(observation=observation, look=look_around, inventory=inventory)\n",
    "    all_lens.append(len(belief_base))\n",
    "    action = trajectory['action']\n",
    "    reward =  float(trajectory['score']) - last_reward\n",
    "    last_reward = float(trajectory['score'])\n",
    "    is_done =  trajectory['isCompleted']\n",
    "    if is_done == 'true':\n",
    "        next_state = \"\"\n",
    "        print(\"finish\")\n",
    "        break\n",
    "        # ou break de repente aqui\n",
    "    print(f\"Step {i} - reward: {reward:.3f} - is_done: {is_done} - score {float(trajectory['score']):.3f}\")"
   ],
   "id": "3f6117421956ce75",
   "outputs": [
    {
     "name": "stdout",
     "output_type": "stream",
     "text": [
      "Step 0 - reward: 0.000 - is_done: false - score 0.000\n",
      "Step 1 - reward: 0.000 - is_done: false - score 0.000\n",
      "Step 2 - reward: 0.000 - is_done: false - score 0.000\n",
      "Step 3 - reward: 0.000 - is_done: false - score 0.000\n",
      "Step 4 - reward: 0.000 - is_done: false - score 0.000\n",
      "Step 5 - reward: 0.000 - is_done: false - score 0.000\n",
      "Step 6 - reward: 0.000 - is_done: false - score 0.000\n",
      "Step 7 - reward: 0.000 - is_done: false - score 0.000\n",
      "Step 8 - reward: 0.000 - is_done: false - score 0.000\n",
      "Step 9 - reward: 0.033 - is_done: false - score 0.033\n",
      "Step 10 - reward: 0.000 - is_done: false - score 0.033\n",
      "Step 11 - reward: 0.000 - is_done: false - score 0.033\n",
      "Step 12 - reward: 0.667 - is_done: false - score 0.700\n",
      "Step 13 - reward: 0.000 - is_done: false - score 0.700\n",
      "Step 14 - reward: 0.000 - is_done: false - score 0.700\n",
      "Step 15 - reward: 0.017 - is_done: false - score 0.717\n",
      "Step 16 - reward: 0.017 - is_done: false - score 0.733\n",
      "Step 17 - reward: 0.000 - is_done: false - score 0.733\n",
      "Step 18 - reward: 0.000 - is_done: false - score 0.733\n",
      "Step 19 - reward: 0.000 - is_done: false - score 0.733\n",
      "Step 20 - reward: 0.000 - is_done: false - score 0.733\n",
      "Step 21 - reward: 0.000 - is_done: false - score 0.733\n",
      "Step 22 - reward: 0.017 - is_done: false - score 0.750\n",
      "Step 23 - reward: 0.000 - is_done: false - score 0.750\n",
      "Step 24 - reward: 0.000 - is_done: false - score 0.750\n",
      "Step 25 - reward: 0.000 - is_done: false - score 0.750\n",
      "Step 26 - reward: 0.000 - is_done: false - score 0.750\n",
      "Step 27 - reward: 0.000 - is_done: false - score 0.750\n",
      "Step 28 - reward: 0.000 - is_done: false - score 0.750\n",
      "Step 29 - reward: 0.000 - is_done: false - score 0.750\n",
      "Step 30 - reward: 0.000 - is_done: false - score 0.750\n",
      "Step 31 - reward: 0.000 - is_done: false - score 0.750\n",
      "Step 32 - reward: 0.000 - is_done: false - score 0.750\n",
      "Step 33 - reward: 0.000 - is_done: false - score 0.750\n",
      "Step 34 - reward: 0.000 - is_done: false - score 0.750\n",
      "Step 35 - reward: 0.000 - is_done: false - score 0.750\n",
      "finish\n"
     ]
    }
   ],
   "execution_count": 3
  },
  {
   "metadata": {
    "ExecuteTime": {
     "end_time": "2024-08-12T10:13:43.784573Z",
     "start_time": "2024-08-12T10:13:43.780698Z"
    }
   },
   "cell_type": "code",
   "source": [
    "import numpy as np\n",
    "\n",
    "np.mean(all_lens)"
   ],
   "id": "9d17f76c5a2e3e5b",
   "outputs": [
    {
     "data": {
      "text/plain": [
       "21.243243243243242"
      ]
     },
     "execution_count": 6,
     "metadata": {},
     "output_type": "execute_result"
    }
   ],
   "execution_count": 6
  },
  {
   "metadata": {
    "ExecuteTime": {
     "end_time": "2024-08-12T10:07:36.408770Z",
     "start_time": "2024-08-12T10:07:31.315614Z"
    }
   },
   "cell_type": "code",
   "source": [
    "\n",
    "\n",
    "\n",
    "ckpt = \"/opt/models/simcse_default/version_0/v0-epoch=4-step=18304-val_nli_loss=0.658-train_loss=0.551.ckpt\"\n",
    "\n",
    "model: SimCSE = SimCSE.load_from_checkpoint(ckpt).eval()\n",
    "hf_model_name = model.hparams['hf_model_name']\n",
    "tokenizer = AutoTokenizer.from_pretrained(hf_model_name)"
   ],
   "id": "673da87138e4fd4",
   "outputs": [
    {
     "name": "stderr",
     "output_type": "stream",
     "text": [
      "/home/ichida/miniconda3/envs/default_env/lib/python3.11/site-packages/huggingface_hub/file_download.py:1132: FutureWarning: `resume_download` is deprecated and will be removed in version 1.0.0. Downloads always resume when possible. If you want to force a new download, use `force_download=True`.\n",
      "  warnings.warn(\n",
      "Some weights of RobertaModel were not initialized from the model checkpoint at FacebookAI/roberta-base and are newly initialized: ['roberta.pooler.dense.bias', 'roberta.pooler.dense.weight']\n",
      "You should probably TRAIN this model on a down-stream task to be able to use it for predictions and inference.\n"
     ]
    }
   ],
   "execution_count": 4
  },
  {
   "metadata": {
    "ExecuteTime": {
     "end_time": "2024-08-12T10:08:50.346600Z",
     "start_time": "2024-08-12T10:08:50.342638Z"
    }
   },
   "cell_type": "code",
   "source": "model",
   "id": "ea6fa51b70bc6474",
   "outputs": [
    {
     "data": {
      "text/plain": [
       "SimCSE(\n",
       "  (backbone_model): RobertaModel(\n",
       "    (embeddings): RobertaEmbeddings(\n",
       "      (word_embeddings): Embedding(50265, 768, padding_idx=1)\n",
       "      (position_embeddings): Embedding(514, 768, padding_idx=1)\n",
       "      (token_type_embeddings): Embedding(1, 768)\n",
       "      (LayerNorm): LayerNorm((768,), eps=1e-05, elementwise_affine=True)\n",
       "      (dropout): Dropout(p=0.1, inplace=False)\n",
       "    )\n",
       "    (encoder): RobertaEncoder(\n",
       "      (layer): ModuleList(\n",
       "        (0-11): 12 x RobertaLayer(\n",
       "          (attention): RobertaAttention(\n",
       "            (self): RobertaSelfAttention(\n",
       "              (query): Linear(in_features=768, out_features=768, bias=True)\n",
       "              (key): Linear(in_features=768, out_features=768, bias=True)\n",
       "              (value): Linear(in_features=768, out_features=768, bias=True)\n",
       "              (dropout): Dropout(p=0.1, inplace=False)\n",
       "            )\n",
       "            (output): RobertaSelfOutput(\n",
       "              (dense): Linear(in_features=768, out_features=768, bias=True)\n",
       "              (LayerNorm): LayerNorm((768,), eps=1e-05, elementwise_affine=True)\n",
       "              (dropout): Dropout(p=0.1, inplace=False)\n",
       "            )\n",
       "          )\n",
       "          (intermediate): RobertaIntermediate(\n",
       "            (dense): Linear(in_features=768, out_features=3072, bias=True)\n",
       "            (intermediate_act_fn): GELUActivation()\n",
       "          )\n",
       "          (output): RobertaOutput(\n",
       "            (dense): Linear(in_features=3072, out_features=768, bias=True)\n",
       "            (LayerNorm): LayerNorm((768,), eps=1e-05, elementwise_affine=True)\n",
       "            (dropout): Dropout(p=0.1, inplace=False)\n",
       "          )\n",
       "        )\n",
       "      )\n",
       "    )\n",
       "    (pooler): RobertaPooler(\n",
       "      (dense): Linear(in_features=768, out_features=768, bias=True)\n",
       "      (activation): Tanh()\n",
       "    )\n",
       "  )\n",
       ")"
      ]
     },
     "execution_count": 5,
     "metadata": {},
     "output_type": "execute_result"
    }
   ],
   "execution_count": 5
  },
  {
   "metadata": {
    "ExecuteTime": {
     "end_time": "2024-08-12T10:11:09.327838Z",
     "start_time": "2024-08-12T10:11:07.204231Z"
    }
   },
   "cell_type": "code",
   "source": [
    "import torch\n",
    "\n",
    "belief_base = torch.randn((32,32,768), device='cuda')\n",
    "\n",
    "belief_base"
   ],
   "id": "d7ab24c944d1bdce",
   "outputs": [
    {
     "data": {
      "text/plain": [
       "tensor([[[-0.2512, -0.0770, -1.8312,  ..., -0.1948,  0.6119,  0.3693],\n",
       "         [-0.5452, -1.2114, -0.8738,  ..., -1.3984, -1.0369,  0.6169],\n",
       "         [-0.4250,  0.9773,  0.1690,  ...,  1.3402,  0.9726,  0.3732],\n",
       "         ...,\n",
       "         [ 0.1894, -0.5548,  0.7270,  ..., -0.9249,  1.3127, -0.4603],\n",
       "         [-0.6409,  0.5757, -1.4390,  ...,  1.3706, -0.5904,  0.6554],\n",
       "         [ 0.4480,  1.4759, -0.1090,  ...,  0.1703, -1.0066,  0.9359]],\n",
       "\n",
       "        [[-1.8288,  0.4786, -0.8813,  ..., -0.7161,  0.8268, -0.1945],\n",
       "         [-0.2015,  0.1621, -0.0977,  ..., -0.0881, -0.4077,  0.1681],\n",
       "         [ 0.3353, -0.2826,  1.1525,  ...,  0.4879,  0.2841,  0.6778],\n",
       "         ...,\n",
       "         [-0.2653, -0.4667,  1.0247,  ...,  0.8670, -0.0372, -0.0355],\n",
       "         [-1.3333,  1.7575,  0.5449,  ...,  0.3856,  0.2825, -0.1094],\n",
       "         [-2.6413, -0.7229, -0.5712,  ..., -1.4301, -0.2122,  0.2355]],\n",
       "\n",
       "        [[-0.2935,  0.4348,  0.1315,  ...,  0.0426, -0.3539, -0.8621],\n",
       "         [ 2.8826,  0.1030, -0.3093,  ...,  1.2213, -3.2460, -0.3209],\n",
       "         [-0.4574, -1.7631, -1.0658,  ..., -1.4130, -0.9270, -0.4424],\n",
       "         ...,\n",
       "         [-1.2951, -0.3874, -0.7699,  ...,  0.8795,  2.2070,  0.1986],\n",
       "         [-0.4166,  0.7304, -0.5518,  ..., -0.6368,  0.2769, -0.2644],\n",
       "         [ 0.7832,  0.8070, -0.6784,  ...,  0.0485,  0.9623, -0.2024]],\n",
       "\n",
       "        ...,\n",
       "\n",
       "        [[-0.0530, -1.5524, -1.0903,  ...,  1.9601, -1.5280,  0.3257],\n",
       "         [ 0.1166, -1.5134,  0.0914,  ..., -0.8630,  0.2005, -1.3253],\n",
       "         [ 0.1583,  0.2712,  0.5348,  ...,  1.2798,  0.7496, -1.7687],\n",
       "         ...,\n",
       "         [ 0.4433,  0.6706, -1.6335,  ...,  0.5453, -1.2177, -0.3260],\n",
       "         [-0.3761, -0.5073,  0.2613,  ...,  1.1311, -0.7175,  1.4587],\n",
       "         [-0.0124, -0.8683,  0.7975,  ..., -0.6267,  0.5630, -1.5253]],\n",
       "\n",
       "        [[ 0.2365,  0.0734, -0.8298,  ..., -0.0692, -0.7211,  0.4548],\n",
       "         [ 0.2206,  1.2276, -0.3358,  ...,  0.8470,  2.0883,  0.1647],\n",
       "         [ 0.7069, -0.4121,  0.2665,  ...,  2.4557, -1.2725,  0.4822],\n",
       "         ...,\n",
       "         [ 1.3475, -0.0411, -0.1758,  ...,  2.2668, -0.5783,  0.0790],\n",
       "         [ 0.8470, -0.8773, -2.2076,  ..., -1.4139,  0.3921,  0.5882],\n",
       "         [ 0.1649,  0.8676, -0.4445,  ..., -1.3070,  0.3297,  0.2621]],\n",
       "\n",
       "        [[-0.2372,  0.2887,  2.8628,  ..., -0.1963,  0.1884,  0.8890],\n",
       "         [-1.2587,  1.9357, -0.8171,  ..., -0.0209, -1.3734,  0.0221],\n",
       "         [ 0.2822, -0.8125, -0.8412,  ...,  0.4148,  2.2068, -1.4462],\n",
       "         ...,\n",
       "         [-0.6108, -0.3915, -0.1310,  ..., -0.4665,  0.0139, -0.5962],\n",
       "         [-0.0685, -0.4733, -1.4705,  ...,  0.0732, -1.2360,  0.1496],\n",
       "         [-0.8021,  0.2331,  0.4105,  ..., -2.2936, -0.7831,  3.2186]]],\n",
       "       device='cuda:0')"
      ]
     },
     "execution_count": 1,
     "metadata": {},
     "output_type": "execute_result"
    }
   ],
   "execution_count": 1
  },
  {
   "metadata": {
    "ExecuteTime": {
     "end_time": "2024-08-12T10:11:47.272202Z",
     "start_time": "2024-08-12T10:11:47.268524Z"
    }
   },
   "cell_type": "code",
   "source": "torch.cuda.memory_summary(abbreviated=True)",
   "id": "b2cd1b3e8ecfe5da",
   "outputs": [
    {
     "data": {
      "text/plain": [
       "'|===========================================================================|\\n|                  PyTorch CUDA memory summary, device ID 0                 |\\n|---------------------------------------------------------------------------|\\n|            CUDA OOMs: 0            |        cudaMalloc retries: 0         |\\n|===========================================================================|\\n|        Metric         | Cur Usage  | Peak Usage | Tot Alloc  | Tot Freed  |\\n|---------------------------------------------------------------------------|\\n| Allocated memory      |   3072 KiB |   3078 KiB |   3109 KiB |  38400 B   |\\n|---------------------------------------------------------------------------|\\n| Active memory         |   3072 KiB |   3078 KiB |   3109 KiB |  38400 B   |\\n|---------------------------------------------------------------------------|\\n| Requested memory      |   3072 KiB |   3076 KiB |   3082 KiB |  10524 B   |\\n|---------------------------------------------------------------------------|\\n| GPU reserved memory   |  22528 KiB |  22528 KiB |  22528 KiB |      0 B   |\\n|---------------------------------------------------------------------------|\\n| Non-releasable memory |  17408 KiB |  19455 KiB |  19492 KiB |   2084 KiB |\\n|---------------------------------------------------------------------------|\\n| Allocations           |       1    |      13    |      65    |      64    |\\n|---------------------------------------------------------------------------|\\n| Active allocs         |       1    |      13    |      65    |      64    |\\n|---------------------------------------------------------------------------|\\n| GPU reserved segments |       2    |       2    |       2    |       0    |\\n|---------------------------------------------------------------------------|\\n| Non-releasable allocs |       1    |       4    |      17    |      16    |\\n|---------------------------------------------------------------------------|\\n| Oversize allocations  |       0    |       0    |       0    |       0    |\\n|---------------------------------------------------------------------------|\\n| Oversize GPU segments |       0    |       0    |       0    |       0    |\\n|===========================================================================|\\n'"
      ]
     },
     "execution_count": 4,
     "metadata": {},
     "output_type": "execute_result"
    }
   ],
   "execution_count": 4
  },
  {
   "metadata": {},
   "cell_type": "code",
   "outputs": [],
   "execution_count": null,
   "source": "",
   "id": "3e471656b9a35a6d"
  }
 ],
 "metadata": {
  "kernelspec": {
   "display_name": "Python 3",
   "language": "python",
   "name": "python3"
  },
  "language_info": {
   "codemirror_mode": {
    "name": "ipython",
    "version": 2
   },
   "file_extension": ".py",
   "mimetype": "text/x-python",
   "name": "python",
   "nbconvert_exporter": "python",
   "pygments_lexer": "ipython2",
   "version": "2.7.6"
  }
 },
 "nbformat": 4,
 "nbformat_minor": 5
}
